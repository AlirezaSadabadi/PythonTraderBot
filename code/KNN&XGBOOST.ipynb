{
 "cells": [
  {
   "cell_type": "code",
   "execution_count": null,
   "id": "7aab85e4-ea44-4ccd-9252-b10d78e7a47e",
   "metadata": {},
   "outputs": [],
   "source": [
    "__author__ = \"Alireza Sadabadi\"\n",
    "__copyright__ = \"Copyright (c) 2024 Alireza Sadabadi. All rights reserved.\"\n",
    "__credits__ = [\"Alireza Sadabadi\"]\n",
    "__license__ = \"Apache\"\n",
    "__version__ = \"2.0\"\n",
    "__maintainer__ = \"Alireza Sadabadi\"\n",
    "__email__ = \"alirezasadabady@gmail.com\"\n",
    "__status__ = \"Test\"\n",
    "__doc__ = \"you can see the tutorials in https://youtube.com/@alirezasadabadi?si=d8o7LK_Ai1Hf68is\""
   ]
  },
  {
   "cell_type": "code",
   "execution_count": 30,
   "id": "195e8aac-6a0d-4a02-84fd-ff7dc7365741",
   "metadata": {},
   "outputs": [
    {
     "data": {
      "text/html": [
       "<div>\n",
       "<style scoped>\n",
       "    .dataframe tbody tr th:only-of-type {\n",
       "        vertical-align: middle;\n",
       "    }\n",
       "\n",
       "    .dataframe tbody tr th {\n",
       "        vertical-align: top;\n",
       "    }\n",
       "\n",
       "    .dataframe thead th {\n",
       "        text-align: right;\n",
       "    }\n",
       "</style>\n",
       "<table border=\"1\" class=\"dataframe\">\n",
       "  <thead>\n",
       "    <tr style=\"text-align: right;\">\n",
       "      <th></th>\n",
       "      <th>time</th>\n",
       "      <th>open</th>\n",
       "      <th>high</th>\n",
       "      <th>low</th>\n",
       "      <th>close</th>\n",
       "      <th>tick_volume</th>\n",
       "      <th>spread</th>\n",
       "      <th>real_volume</th>\n",
       "    </tr>\n",
       "  </thead>\n",
       "  <tbody>\n",
       "    <tr>\n",
       "      <th>9995</th>\n",
       "      <td>2025-04-24 04:00:00</td>\n",
       "      <td>1.13448</td>\n",
       "      <td>1.13569</td>\n",
       "      <td>1.13317</td>\n",
       "      <td>1.13387</td>\n",
       "      <td>12077</td>\n",
       "      <td>2</td>\n",
       "      <td>0</td>\n",
       "    </tr>\n",
       "    <tr>\n",
       "      <th>9996</th>\n",
       "      <td>2025-04-24 08:00:00</td>\n",
       "      <td>1.13386</td>\n",
       "      <td>1.13924</td>\n",
       "      <td>1.13303</td>\n",
       "      <td>1.13800</td>\n",
       "      <td>18491</td>\n",
       "      <td>8</td>\n",
       "      <td>0</td>\n",
       "    </tr>\n",
       "    <tr>\n",
       "      <th>9997</th>\n",
       "      <td>2025-04-24 12:00:00</td>\n",
       "      <td>1.13797</td>\n",
       "      <td>1.13942</td>\n",
       "      <td>1.13573</td>\n",
       "      <td>1.13759</td>\n",
       "      <td>18639</td>\n",
       "      <td>8</td>\n",
       "      <td>0</td>\n",
       "    </tr>\n",
       "    <tr>\n",
       "      <th>9998</th>\n",
       "      <td>2025-04-24 16:00:00</td>\n",
       "      <td>1.13763</td>\n",
       "      <td>1.13868</td>\n",
       "      <td>1.13472</td>\n",
       "      <td>1.13795</td>\n",
       "      <td>20270</td>\n",
       "      <td>8</td>\n",
       "      <td>0</td>\n",
       "    </tr>\n",
       "    <tr>\n",
       "      <th>9999</th>\n",
       "      <td>2025-04-24 20:00:00</td>\n",
       "      <td>1.13794</td>\n",
       "      <td>1.13852</td>\n",
       "      <td>1.13649</td>\n",
       "      <td>1.13726</td>\n",
       "      <td>3433</td>\n",
       "      <td>8</td>\n",
       "      <td>0</td>\n",
       "    </tr>\n",
       "  </tbody>\n",
       "</table>\n",
       "</div>"
      ],
      "text/plain": [
       "                     time     open     high      low    close  tick_volume  \\\n",
       "9995  2025-04-24 04:00:00  1.13448  1.13569  1.13317  1.13387        12077   \n",
       "9996  2025-04-24 08:00:00  1.13386  1.13924  1.13303  1.13800        18491   \n",
       "9997  2025-04-24 12:00:00  1.13797  1.13942  1.13573  1.13759        18639   \n",
       "9998  2025-04-24 16:00:00  1.13763  1.13868  1.13472  1.13795        20270   \n",
       "9999  2025-04-24 20:00:00  1.13794  1.13852  1.13649  1.13726         3433   \n",
       "\n",
       "      spread  real_volume  \n",
       "9995       2            0  \n",
       "9996       8            0  \n",
       "9997       8            0  \n",
       "9998       8            0  \n",
       "9999       8            0  "
      ]
     },
     "execution_count": 30,
     "metadata": {},
     "output_type": "execute_result"
    }
   ],
   "source": [
    "import pandas as pd\n",
    "df = pd.read_csv(\"EURUSDH4.csv\")\n",
    "df.tail()"
   ]
  },
  {
   "cell_type": "code",
   "execution_count": 31,
   "id": "12e5d584-3bec-4372-84cd-80677a9bd708",
   "metadata": {},
   "outputs": [],
   "source": [
    "import numpy as np\n",
    "import pandas_ta as pdta\n",
    "df['ATR'] = pdta.atr(df['high'],df['low'],df['close'],length=20)\n",
    "df['RSI'] = pdta.rsi(df['close'])\n",
    "df['MA40'] = pdta.sma(df['close'],length=40)\n",
    "df['MA80'] = pdta.sma(df['close'],length=80)\n",
    "df['MA160'] = pdta.sma(df['close'],length=160)\n",
    "df['Average'] = pdta.midprice(df['high'],df['low'])\n"
   ]
  },
  {
   "cell_type": "code",
   "execution_count": 32,
   "id": "a2892f91-3969-4feb-a6b9-61943b34bc35",
   "metadata": {},
   "outputs": [],
   "source": [
    "from scipy.stats import linregress\n",
    "def GetSlope(array):\n",
    "    y = np.array(array)\n",
    "    x = np.arange(len(y))\n",
    "    response = linregress(x,y)\n",
    "    return response.slope"
   ]
  },
  {
   "cell_type": "code",
   "execution_count": 33,
   "id": "c849b263-2a63-49f4-86e2-f14455e8b65a",
   "metadata": {},
   "outputs": [],
   "source": [
    "    backRolling = 7\n",
    "    \n",
    "    df['ATRSlope'] = df['ATR'].rolling(window=backRolling).apply(GetSlope, raw=True)\n",
    "    df['RSISlope'] = df['RSI'].rolling(window=backRolling).apply(GetSlope, raw=True)\n",
    "    df['MA40Slope'] = df['MA40'].rolling(window=backRolling).apply(GetSlope, raw=True)\n",
    "    df['MA80Slope'] = df['MA80'].rolling(window=backRolling).apply(GetSlope, raw=True)\n",
    "    df['MA160Slope'] = df['MA160'].rolling(window=backRolling).apply(GetSlope, raw=True)\n",
    "    df['AverageSlope'] = df['Average'].rolling(window=backRolling).apply(GetSlope, raw=True)"
   ]
  },
  {
   "cell_type": "code",
   "execution_count": 34,
   "id": "03896415-c764-41a8-8475-fffee638f862",
   "metadata": {},
   "outputs": [
    {
     "data": {
      "text/html": [
       "<div>\n",
       "<style scoped>\n",
       "    .dataframe tbody tr th:only-of-type {\n",
       "        vertical-align: middle;\n",
       "    }\n",
       "\n",
       "    .dataframe tbody tr th {\n",
       "        vertical-align: top;\n",
       "    }\n",
       "\n",
       "    .dataframe thead th {\n",
       "        text-align: right;\n",
       "    }\n",
       "</style>\n",
       "<table border=\"1\" class=\"dataframe\">\n",
       "  <thead>\n",
       "    <tr style=\"text-align: right;\">\n",
       "      <th></th>\n",
       "      <th>time</th>\n",
       "      <th>open</th>\n",
       "      <th>high</th>\n",
       "      <th>low</th>\n",
       "      <th>close</th>\n",
       "      <th>tick_volume</th>\n",
       "      <th>spread</th>\n",
       "      <th>real_volume</th>\n",
       "      <th>ATR</th>\n",
       "      <th>RSI</th>\n",
       "      <th>MA40</th>\n",
       "      <th>MA80</th>\n",
       "      <th>MA160</th>\n",
       "      <th>Average</th>\n",
       "      <th>ATRSlope</th>\n",
       "      <th>RSISlope</th>\n",
       "      <th>MA40Slope</th>\n",
       "      <th>MA80Slope</th>\n",
       "      <th>MA160Slope</th>\n",
       "      <th>AverageSlope</th>\n",
       "    </tr>\n",
       "  </thead>\n",
       "  <tbody>\n",
       "    <tr>\n",
       "      <th>9995</th>\n",
       "      <td>2025-04-24 04:00:00</td>\n",
       "      <td>1.13448</td>\n",
       "      <td>1.13569</td>\n",
       "      <td>1.13317</td>\n",
       "      <td>1.13387</td>\n",
       "      <td>12077</td>\n",
       "      <td>2</td>\n",
       "      <td>0</td>\n",
       "      <td>0.005202</td>\n",
       "      <td>40.807941</td>\n",
       "      <td>1.140115</td>\n",
       "      <td>1.127151</td>\n",
       "      <td>1.106099</td>\n",
       "      <td>1.133220</td>\n",
       "      <td>-0.000024</td>\n",
       "      <td>-1.326979</td>\n",
       "      <td>0.000036</td>\n",
       "      <td>0.000423</td>\n",
       "      <td>0.000271</td>\n",
       "      <td>-0.000990</td>\n",
       "    </tr>\n",
       "    <tr>\n",
       "      <th>9996</th>\n",
       "      <td>2025-04-24 08:00:00</td>\n",
       "      <td>1.13386</td>\n",
       "      <td>1.13924</td>\n",
       "      <td>1.13303</td>\n",
       "      <td>1.13800</td>\n",
       "      <td>18491</td>\n",
       "      <td>8</td>\n",
       "      <td>0</td>\n",
       "      <td>0.005253</td>\n",
       "      <td>47.488353</td>\n",
       "      <td>1.140381</td>\n",
       "      <td>1.127668</td>\n",
       "      <td>1.106368</td>\n",
       "      <td>1.136135</td>\n",
       "      <td>-0.000032</td>\n",
       "      <td>-0.480187</td>\n",
       "      <td>0.000036</td>\n",
       "      <td>0.000437</td>\n",
       "      <td>0.000263</td>\n",
       "      <td>-0.001057</td>\n",
       "    </tr>\n",
       "    <tr>\n",
       "      <th>9997</th>\n",
       "      <td>2025-04-24 12:00:00</td>\n",
       "      <td>1.13797</td>\n",
       "      <td>1.13942</td>\n",
       "      <td>1.13573</td>\n",
       "      <td>1.13759</td>\n",
       "      <td>18639</td>\n",
       "      <td>8</td>\n",
       "      <td>0</td>\n",
       "      <td>0.005175</td>\n",
       "      <td>46.922196</td>\n",
       "      <td>1.140620</td>\n",
       "      <td>1.128157</td>\n",
       "      <td>1.106639</td>\n",
       "      <td>1.136225</td>\n",
       "      <td>-0.000048</td>\n",
       "      <td>0.747506</td>\n",
       "      <td>0.000070</td>\n",
       "      <td>0.000457</td>\n",
       "      <td>0.000261</td>\n",
       "      <td>-0.000717</td>\n",
       "    </tr>\n",
       "    <tr>\n",
       "      <th>9998</th>\n",
       "      <td>2025-04-24 16:00:00</td>\n",
       "      <td>1.13763</td>\n",
       "      <td>1.13868</td>\n",
       "      <td>1.13472</td>\n",
       "      <td>1.13795</td>\n",
       "      <td>20270</td>\n",
       "      <td>8</td>\n",
       "      <td>0</td>\n",
       "      <td>0.005114</td>\n",
       "      <td>47.513890</td>\n",
       "      <td>1.140778</td>\n",
       "      <td>1.128642</td>\n",
       "      <td>1.106915</td>\n",
       "      <td>1.137070</td>\n",
       "      <td>-0.000065</td>\n",
       "      <td>1.934348</td>\n",
       "      <td>0.000118</td>\n",
       "      <td>0.000474</td>\n",
       "      <td>0.000264</td>\n",
       "      <td>-0.000002</td>\n",
       "    </tr>\n",
       "    <tr>\n",
       "      <th>9999</th>\n",
       "      <td>2025-04-24 20:00:00</td>\n",
       "      <td>1.13794</td>\n",
       "      <td>1.13852</td>\n",
       "      <td>1.13649</td>\n",
       "      <td>1.13726</td>\n",
       "      <td>3433</td>\n",
       "      <td>8</td>\n",
       "      <td>0</td>\n",
       "      <td>0.004960</td>\n",
       "      <td>46.445189</td>\n",
       "      <td>1.140845</td>\n",
       "      <td>1.129141</td>\n",
       "      <td>1.107191</td>\n",
       "      <td>1.136700</td>\n",
       "      <td>-0.000067</td>\n",
       "      <td>1.777390</td>\n",
       "      <td>0.000155</td>\n",
       "      <td>0.000490</td>\n",
       "      <td>0.000268</td>\n",
       "      <td>0.000489</td>\n",
       "    </tr>\n",
       "  </tbody>\n",
       "</table>\n",
       "</div>"
      ],
      "text/plain": [
       "                     time     open     high      low    close  tick_volume  \\\n",
       "9995  2025-04-24 04:00:00  1.13448  1.13569  1.13317  1.13387        12077   \n",
       "9996  2025-04-24 08:00:00  1.13386  1.13924  1.13303  1.13800        18491   \n",
       "9997  2025-04-24 12:00:00  1.13797  1.13942  1.13573  1.13759        18639   \n",
       "9998  2025-04-24 16:00:00  1.13763  1.13868  1.13472  1.13795        20270   \n",
       "9999  2025-04-24 20:00:00  1.13794  1.13852  1.13649  1.13726         3433   \n",
       "\n",
       "      spread  real_volume       ATR        RSI      MA40      MA80     MA160  \\\n",
       "9995       2            0  0.005202  40.807941  1.140115  1.127151  1.106099   \n",
       "9996       8            0  0.005253  47.488353  1.140381  1.127668  1.106368   \n",
       "9997       8            0  0.005175  46.922196  1.140620  1.128157  1.106639   \n",
       "9998       8            0  0.005114  47.513890  1.140778  1.128642  1.106915   \n",
       "9999       8            0  0.004960  46.445189  1.140845  1.129141  1.107191   \n",
       "\n",
       "       Average  ATRSlope  RSISlope  MA40Slope  MA80Slope  MA160Slope  \\\n",
       "9995  1.133220 -0.000024 -1.326979   0.000036   0.000423    0.000271   \n",
       "9996  1.136135 -0.000032 -0.480187   0.000036   0.000437    0.000263   \n",
       "9997  1.136225 -0.000048  0.747506   0.000070   0.000457    0.000261   \n",
       "9998  1.137070 -0.000065  1.934348   0.000118   0.000474    0.000264   \n",
       "9999  1.136700 -0.000067  1.777390   0.000155   0.000490    0.000268   \n",
       "\n",
       "      AverageSlope  \n",
       "9995     -0.000990  \n",
       "9996     -0.001057  \n",
       "9997     -0.000717  \n",
       "9998     -0.000002  \n",
       "9999      0.000489  "
      ]
     },
     "execution_count": 34,
     "metadata": {},
     "output_type": "execute_result"
    }
   ],
   "source": [
    "df.tail()"
   ]
  },
  {
   "cell_type": "code",
   "execution_count": 35,
   "id": "dbfe7ab4-2241-479d-af63-a73e3bcc795e",
   "metadata": {},
   "outputs": [],
   "source": [
    "tp = 100*1e-4\n",
    "sl = tp/2 \n",
    "\n",
    "def Target(numberOfNextCandles, df):\n",
    "    open = list(df['open'])\n",
    "    high = list(df['high'])\n",
    "    low = list(df['low'])\n",
    "    dfLength = len(df)\n",
    "    trend = [None] * dfLength\n",
    "    \n",
    "    # cc = current candle\n",
    "    for cc in range (0,dfLength-numberOfNextCandles-2):\n",
    "        # VOL = value open low\n",
    "        # VOH = value open high\n",
    "        VOL = 0\n",
    "        VOH = 0\n",
    "        for i in range(1,numberOfNextCandles+2):\n",
    "            #o_l = open - low\n",
    "            #o_h = open - high\n",
    "            o_l = open[cc+1]-low[cc+i]\n",
    "            o_h = open[cc+1]-high[cc+i]\n",
    "            VOL = max(o_l, VOL)\n",
    "            VOH = min(o_h, VOH)\n",
    "\n",
    "            if ((-VOL <= -tp) and (-VOH < sl)):\n",
    "                trend[cc] = 1 # downtrend\n",
    "                break\n",
    "            if ((VOL > -sl) and (-VOH >= tp)):\n",
    "                trend[cc] = 2 # uptrend\n",
    "                break\n",
    "            else:\n",
    "                trend[cc] = 0 # range\n",
    "            \n",
    "    return trend"
   ]
  },
  {
   "cell_type": "code",
   "execution_count": 36,
   "id": "23220fb9-f609-4033-9e86-59cf1ce01454",
   "metadata": {},
   "outputs": [
    {
     "data": {
      "text/plain": [
       "Target\n",
       "0.0    6519\n",
       "2.0    1929\n",
       "1.0    1535\n",
       "Name: count, dtype: int64"
      ]
     },
     "execution_count": 36,
     "metadata": {},
     "output_type": "execute_result"
    }
   ],
   "source": [
    "df['Target'] = Target(15, df)\n",
    "df.value_counts('Target')"
   ]
  },
  {
   "cell_type": "code",
   "execution_count": 37,
   "id": "486b99fe-a5eb-4d4f-bc60-d16bcdc8ef81",
   "metadata": {},
   "outputs": [],
   "source": [
    "df_model = df[['ATR', 'RSI', 'Average', 'MA40', 'MA80', 'MA160', 'MA40Slope', 'MA80Slope', 'MA160Slope', 'AverageSlope', 'RSISlope', 'Target']] \n",
    "df_model = df_model.dropna()\n",
    "\n",
    "attributes=['ATR', 'RSI', 'Average', 'MA40', 'MA80', 'MA160', 'MA40Slope', 'MA80Slope', 'MA160Slope', 'AverageSlope', 'RSISlope']\n",
    "X = df_model[attributes]\n",
    "y = df_model[\"Target\"]"
   ]
  },
  {
   "cell_type": "code",
   "execution_count": 38,
   "id": "3b3270ac-5ac2-4ad9-9c53-92af29e2e3ef",
   "metadata": {},
   "outputs": [],
   "source": [
    "from sklearn.model_selection import train_test_split\n",
    "X_train, X_test, y_train, y_test = train_test_split(X, y, test_size=0.2, train_size=0.8, random_state=1)"
   ]
  },
  {
   "cell_type": "code",
   "execution_count": 39,
   "id": "73d538a9-ef6f-45e1-b505-e8cd958882f4",
   "metadata": {},
   "outputs": [],
   "source": [
    "from sklearn.neighbors import KNeighborsClassifier\n",
    "\n",
    "model = KNeighborsClassifier(n_neighbors=200)\n",
    "model.fit(X_train, y_train)\n",
    "\n",
    "y_pred_train = model.predict(X_train)\n",
    "y_pred_test = model.predict(X_test)"
   ]
  },
  {
   "cell_type": "code",
   "execution_count": 40,
   "id": "1c7403aa-c931-413a-9002-bd78288cd0b4",
   "metadata": {},
   "outputs": [
    {
     "name": "stdout",
     "output_type": "stream",
     "text": [
      "Accuracy train: 65.06%\n",
      "Accuracy test: 65.73%\n",
      "Target\n",
      "0.0    65.196578\n",
      "2.0    19.342025\n",
      "1.0    15.461397\n",
      "Name: count, dtype: float64\n",
      "Accuracy test in Random model: 33.10%\n"
     ]
    }
   ],
   "source": [
    "from sklearn.metrics import accuracy_score\n",
    "accuracy_train = accuracy_score(y_train, y_pred_train)\n",
    "accuracy_test = accuracy_score(y_test, y_pred_test)\n",
    "print(\"Accuracy train: %.2f%%\" % (accuracy_train * 100.0))\n",
    "print(\"Accuracy test: %.2f%%\" % (accuracy_test * 100.0))\n",
    "\n",
    "# Target in percentage\n",
    "print(df_model['Target'].value_counts()*100/df_model['Target'].count())\n",
    "\n",
    "# Random Model\n",
    "pred_test = np.random.choice([0, 1, 2], len(y_pred_test))\n",
    "accuracy_test = accuracy_score(y_test, pred_test)\n",
    "print(\"Accuracy test in Random model: %.2f%%\" % (accuracy_test * 100.0))"
   ]
  },
  {
   "cell_type": "code",
   "execution_count": 41,
   "id": "8fb495ed-321b-461e-a2c7-293da233bad8",
   "metadata": {},
   "outputs": [
    {
     "name": "stdout",
     "output_type": "stream",
     "text": [
      "-------XGBOOST-------\n",
      "Accuracy train: 99.24%\n",
      "Accuracy test: 86.20%\n"
     ]
    }
   ],
   "source": [
    "from xgboost import XGBClassifier\n",
    "\n",
    "model = XGBClassifier()\n",
    "model.fit(X_train, y_train)\n",
    "\n",
    "pred_train = model.predict(X_train)\n",
    "pred_test = model.predict(X_test)\n",
    "\n",
    "accuracy_train = accuracy_score(y_train, pred_train)\n",
    "accuracy_test = accuracy_score(y_test, pred_test)\n",
    "\n",
    "print(\"-------XGBOOST-------\")\n",
    "print(\"Accuracy train: {:.2%}\".format(accuracy_train))\n",
    "print(\"Accuracy test: {:.2%}\".format(accuracy_test))"
   ]
  },
  {
   "cell_type": "code",
   "execution_count": 42,
   "id": "b6db35f7-fa8a-4a91-9220-d714bc2588d5",
   "metadata": {},
   "outputs": [
    {
     "name": "stdout",
     "output_type": "stream",
     "text": [
      "Accuracy train: 99.30%\n",
      "Accuracy test: 55.80%\n"
     ]
    }
   ],
   "source": [
    "#sequential sampling\n",
    "train_index = int(0.8 * len(X))\n",
    "X_train, X_test = X[:train_index], X[train_index:]\n",
    "y_train, y_test = y[:train_index], y[train_index:]\n",
    "\n",
    "model = XGBClassifier()\n",
    "\n",
    "model.fit(X_train, y_train)\n",
    "\n",
    "pred_train = model.predict(X_train)\n",
    "pred_test = model.predict(X_test)\n",
    "\n",
    "accuracy_train = accuracy_score(y_train, pred_train)\n",
    "accurace_test = accuracy_score(y_test, pred_test)\n",
    "\n",
    "print(\"Accuracy train: {:.2%}\".format(accuracy_train))\n",
    "print(\"Accuracy test: {:.2%}\".format(accurace_test))"
   ]
  },
  {
   "cell_type": "code",
   "execution_count": 43,
   "id": "4a6c692e-62c7-4907-bd79-f6c702772a3c",
   "metadata": {
    "scrolled": true
   },
   "outputs": [
    {
     "data": {
      "image/png": "[encoded data removed]",
      "text/plain": [
       "<Figure size 640x480 with 1 Axes>"
      ]
     },
     "metadata": {},
     "output_type": "display_data"
    }
   ],
   "source": [
    "from matplotlib import pyplot\n",
    "from xgboost import plot_importance\n",
    "\n",
    "plot_importance(model)\n",
    "pyplot.show()"
   ]
  },
  {
   "cell_type": "code",
   "execution_count": 44,
   "id": "4804ca3a-e070-4772-be87-8f7b990b2ae3",
   "metadata": {},
   "outputs": [
    {
     "data": {
      "text/plain": [
       "['Model-XGBOOST.ml']"
      ]
     },
     "execution_count": 44,
     "metadata": {},
     "output_type": "execute_result"
    }
   ],
   "source": [
    "#https://joblib.readthedocs.io/en/stable/\n",
    "import joblib\n",
    "\n",
    "# save the model to disk\n",
    "filename = 'Model-XGBOOST.ml'\n",
    "# more info: https://joblib.readthedocs.io/en/latest/generated/joblib.dump.html\n",
    "joblib.dump(model, filename)"
   ]
  },
  {
   "cell_type": "code",
   "execution_count": null,
   "id": "b9d410e2-d9e2-498e-b3f3-a942e0e5a32a",
   "metadata": {},
   "outputs": [],
   "source": [
    "#load the model from disk\n",
    "loadedModel = joblib.load('Model-XGBOOST.ml')"
   ]
  },
  {
   "cell_type": "code",
   "execution_count": null,
   "id": "06d286d1-c0e4-44e8-b32c-9a8a8179dd63",
   "metadata": {},
   "outputs": [],
   "source": [
    "plot_importance(loadedModel)\n",
    "pyplot.show()"
   ]
  },
  {
   "cell_type": "code",
   "execution_count": null,
   "id": "a7465430-39fb-4c38-93b8-8bc5584fa69e",
   "metadata": {},
   "outputs": [],
   "source": []
  }
 ],
 "metadata": {
  "kernelspec": {
   "display_name": "Python 3 (ipykernel)",
   "language": "python",
   "name": "python3"
  },
  "language_info": {
   "codemirror_mode": {
    "name": "ipython",
    "version": 3
   },
   "file_extension": ".py",
   "mimetype": "text/x-python",
   "name": "python",
   "nbconvert_exporter": "python",
   "pygments_lexer": "ipython3",
   "version": "3.12.6"
  }
 },
 "nbformat": 4,
 "nbformat_minor": 5
}
