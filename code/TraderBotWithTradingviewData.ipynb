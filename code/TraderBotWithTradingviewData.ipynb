{
 "cells": [
  {
   "cell_type": "code",
   "execution_count": null,
   "id": "c94cbc98-b3a2-44b1-8ac7-7982e23aed03",
   "metadata": {},
   "outputs": [],
   "source": [
    "__author__ = \"Alireza Sadabadi\"\n",
    "__copyright__ = \"Copyright (c) 2024 Alireza Sadabadi. All rights reserved.\"\n",
    "__credits__ = [\"Alireza Sadabadi\"]\n",
    "__license__ = \"Apache\"\n",
    "__version__ = \"2.0\"\n",
    "__maintainer__ = \"Alireza Sadabadi\"\n",
    "__email__ = \"alirezasadabady@gmail.com\"\n",
    "__status__ = \"Test\"\n",
    "__doc__ = \"you can see the tutorials in https://youtube.com/@alirezasadabadi?si=d8o7LK_Ai1Hf68is\"\n",
    "\n",
    "from tradingview_ta import TA_Handler, Interval\n",
    "import time\n",
    "\n",
    "# Store the last order.\n",
    "last_order = \"sell\"\n",
    "\n",
    "handler = TA_Handler(\n",
    "    symbol='BTCUSDT',\n",
    "    screener='crypto',\n",
    "    exchange='binance',\n",
    "    interval=Interval.INTERVAL_1_MINUTE,\n",
    "    timeout=None,\n",
    "    #proxies={'http': 'http://example.com:8080'}\n",
    ")\n",
    "\n",
    "# Repeat forever.\n",
    "while True:\n",
    "    # Retrieve recommendation.\n",
    "    rec = handler.get_analysis()[\"RECOMMENDATION\"]\n",
    "\n",
    "    # Create a buy order if the recommendation is \"BUY\" or \"STRONG_BUY\" and the last order is \"sell\".\n",
    "    if \"BUY\" in rec and last_order == \"sell\":\n",
    "        # Create a buy order using your exchange's API.\n",
    "        last_order = \"buy\"\n",
    "        \n",
    "    # Create a sell order if the recommendation is \"SELL\" or \"STRONG_SELL\" and the last order is \"buy\".\n",
    "    elif \"SELL\" in rec and last_order == \"buy\":\n",
    "        # Create a sell order using your exchange's API.\n",
    "        last_order = \"sell\"\n",
    "\n",
    "    # Wait for x seconds before retrieving new analysis.\n",
    "    # The time should be the same as the interval.\n",
    "    time.sleep(60)"
   ]
  }
 ],
 "metadata": {
  "kernelspec": {
   "display_name": "Python 3 (ipykernel)",
   "language": "python",
   "name": "python3"
  },
  "language_info": {
   "codemirror_mode": {
    "name": "ipython",
    "version": 3
   },
   "file_extension": ".py",
   "mimetype": "text/x-python",
   "name": "python",
   "nbconvert_exporter": "python",
   "pygments_lexer": "ipython3",
   "version": "3.12.6"
  }
 },
 "nbformat": 4,
 "nbformat_minor": 5
}
