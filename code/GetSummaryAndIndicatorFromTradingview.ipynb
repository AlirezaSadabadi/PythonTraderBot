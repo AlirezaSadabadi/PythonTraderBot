{
 "cells": [
  {
   "cell_type": "code",
   "execution_count": null,
   "id": "44759661-5c4a-43ff-8de3-b206d0652fa7",
   "metadata": {},
   "outputs": [],
   "source": [
    "__author__ = \"Alireza Sadabadi\"\n",
    "__copyright__ = \"Copyright (c) 2024 Alireza Sadabadi. All rights reserved.\"\n",
    "__credits__ = [\"Alireza Sadabadi\"]\n",
    "__license__ = \"Apache\"\n",
    "__version__ = \"2.0\"\n",
    "__maintainer__ = \"Alireza Sadabadi\"\n",
    "__email__ = \"alirezasadabady@gmail.com\"\n",
    "__status__ = \"Test\"\n",
    "__doc__ = \"you can see the tutorials in https://youtube.com/@alirezasadabadi?si=d8o7LK_Ai1Hf68is\""
   ]
  },
  {
   "cell_type": "code",
   "execution_count": null,
   "id": "6d376675-e911-4fb5-bedd-abb1e8635a20",
   "metadata": {},
   "outputs": [],
   "source": [
    "#pip install tradingview_ta"
   ]
  },
  {
   "cell_type": "code",
   "execution_count": 12,
   "id": "8f7c52a5-51ef-4e71-968f-0367ef1e5e25",
   "metadata": {},
   "outputs": [],
   "source": [
    "from tradingview_ta import TA_Handler, Interval\n",
    "\n",
    "handler = TA_Handler(\n",
    "    symbol='BTCUSDT',\n",
    "    screener='crypto',\n",
    "    exchange='OKX',\n",
    "    interval=Interval.INTERVAL_4_HOURS,\n",
    "    timeout=None,\n",
    "    #proxies={'http': 'http://example.com:8080'}\n",
    ")"
   ]
  },
  {
   "cell_type": "code",
   "execution_count": 13,
   "id": "8397d952-0431-44ee-8fa8-22d1d63bc8e8",
   "metadata": {},
   "outputs": [
    {
     "data": {
      "text/plain": [
       "{'RECOMMENDATION': 'SELL', 'BUY': 3, 'SELL': 15, 'NEUTRAL': 8}"
      ]
     },
     "execution_count": 13,
     "metadata": {},
     "output_type": "execute_result"
    }
   ],
   "source": [
    "handler.get_analysis().summary"
   ]
  },
  {
   "cell_type": "code",
   "execution_count": 14,
   "id": "14a2d668-aea5-4a20-addd-b3e1ae878581",
   "metadata": {},
   "outputs": [
    {
     "data": {
      "text/plain": [
       "{'RECOMMENDATION': 'SELL',\n",
       " 'BUY': 1,\n",
       " 'SELL': 2,\n",
       " 'NEUTRAL': 8,\n",
       " 'COMPUTE': {'RSI': 'NEUTRAL',\n",
       "  'STOCH.K': 'NEUTRAL',\n",
       "  'CCI': 'NEUTRAL',\n",
       "  'ADX': 'NEUTRAL',\n",
       "  'AO': 'SELL',\n",
       "  'Mom': 'BUY',\n",
       "  'MACD': 'SELL',\n",
       "  'Stoch.RSI': 'NEUTRAL',\n",
       "  'W%R': 'NEUTRAL',\n",
       "  'BBP': 'NEUTRAL',\n",
       "  'UO': 'NEUTRAL'}}"
      ]
     },
     "execution_count": 14,
     "metadata": {},
     "output_type": "execute_result"
    }
   ],
   "source": [
    "handler.get_analysis().oscillators"
   ]
  },
  {
   "cell_type": "code",
   "execution_count": 15,
   "id": "ea09c04b-a856-4989-8416-d792c64d2c98",
   "metadata": {},
   "outputs": [
    {
     "data": {
      "text/plain": [
       "{'Recommend.Other': 0,\n",
       " 'Recommend.All': -0.4,\n",
       " 'Recommend.MA': -0.8,\n",
       " 'RSI': 40.48065979650996,\n",
       " 'RSI[1]': 40.48109672922657,\n",
       " 'Stoch.K': 11.279521264446608,\n",
       " 'Stoch.D': 13.064990050812916,\n",
       " 'Stoch.K[1]': 12.427995055121864,\n",
       " 'Stoch.D[1]': 15.490217214332011,\n",
       " 'CCI20': -111.71773917689634,\n",
       " 'CCI20[1]': -120.41659676524891,\n",
       " 'ADX': 25.437576762644365,\n",
       " 'ADX+DI': 15.83314703235701,\n",
       " 'ADX-DI': 28.88609482593734,\n",
       " 'ADX+DI[1]': 15.833231427848382,\n",
       " 'ADX-DI[1]': 28.88624879761219,\n",
       " 'AO': -742.9038235295011,\n",
       " 'AO[1]': -592.5405882353953,\n",
       " 'Mom': -2404.600000000006,\n",
       " 'Mom[1]': -2533.7999999999884,\n",
       " 'MACD.macd': -383.7412126482377,\n",
       " 'MACD.signal': -98.05209782651816,\n",
       " 'Rec.Stoch.RSI': 0,\n",
       " 'Stoch.RSI.K': -1.0066022089934753e-14,\n",
       " 'Rec.WR': 0,\n",
       " 'W.R': -88.85843497327669,\n",
       " 'Rec.BBPower': 0,\n",
       " 'BBPower': -2568.0175818167627,\n",
       " 'Rec.UO': 0,\n",
       " 'UO': 33.20720160128817,\n",
       " 'close': 82016,\n",
       " 'EMA5': 82523.03015452497,\n",
       " 'SMA5': 82525.47999999992,\n",
       " 'EMA10': 83122.45569543022,\n",
       " 'SMA10': 83684.24999999996,\n",
       " 'EMA20': 83511.55011531373,\n",
       " 'SMA20': 83829.70499999999,\n",
       " 'EMA30': 83710.67921552614,\n",
       " 'SMA30': 83422.3633333333,\n",
       " 'EMA50': 84022.70413302157,\n",
       " 'SMA50': 84139.51399999991,\n",
       " 'EMA100': 84498.8274398117,\n",
       " 'SMA100': 84708.34799999995,\n",
       " 'EMA200': 85933.06279183387,\n",
       " 'SMA200': 84935.95850000001,\n",
       " 'Rec.Ichimoku': 0,\n",
       " 'Ichimoku.BLine': 84851.5,\n",
       " 'Rec.VWMA': -1,\n",
       " 'VWMA': 83869.7449688967,\n",
       " 'Rec.HullMA9': 1,\n",
       " 'HullMA9': 81581.95407407409,\n",
       " 'Pivot.M.Classic.S3': 69845.76666666668,\n",
       " 'Pivot.M.Classic.S2': 77045.66666666667,\n",
       " 'Pivot.M.Classic.S1': 79721.93333333333,\n",
       " 'Pivot.M.Classic.Middle': 84245.56666666667,\n",
       " 'Pivot.M.Classic.R1': 86921.83333333333,\n",
       " 'Pivot.M.Classic.R2': 91445.46666666666,\n",
       " 'Pivot.M.Classic.R3': 98645.36666666665,\n",
       " 'Pivot.M.Fibonacci.S3': 77045.66666666667,\n",
       " 'Pivot.M.Fibonacci.S2': 79796.02846666667,\n",
       " 'Pivot.M.Fibonacci.S1': 81495.20486666667,\n",
       " 'Pivot.M.Fibonacci.Middle': 84245.56666666667,\n",
       " 'Pivot.M.Fibonacci.R1': 86995.92846666666,\n",
       " 'Pivot.M.Fibonacci.R2': 88695.10486666666,\n",
       " 'Pivot.M.Fibonacci.R3': 91445.46666666666,\n",
       " 'Pivot.M.Camarilla.S3': 80418.2275,\n",
       " 'Pivot.M.Camarilla.S2': 81078.21833333334,\n",
       " 'Pivot.M.Camarilla.S1': 81738.20916666667,\n",
       " 'Pivot.M.Camarilla.Middle': 84245.56666666667,\n",
       " 'Pivot.M.Camarilla.R1': 83058.19083333333,\n",
       " 'Pivot.M.Camarilla.R2': 83718.18166666666,\n",
       " 'Pivot.M.Camarilla.R3': 84378.1725,\n",
       " 'Pivot.M.Woodie.S3': 71598.55,\n",
       " 'Pivot.M.Woodie.S2': 76583.925,\n",
       " 'Pivot.M.Woodie.S1': 78798.45,\n",
       " 'Pivot.M.Woodie.Middle': 83783.825,\n",
       " 'Pivot.M.Woodie.R1': 85998.34999999999,\n",
       " 'Pivot.M.Woodie.R2': 90983.72499999999,\n",
       " 'Pivot.M.Woodie.R3': 93198.24999999999,\n",
       " 'Pivot.M.Demark.S1': 78383.8,\n",
       " 'Pivot.M.Demark.Middle': 83576.5,\n",
       " 'Pivot.M.Demark.R1': 85583.7,\n",
       " 'open': 82016,\n",
       " 'P.SAR': 87212.102478528,\n",
       " 'BB.lower': 80956.99924097664,\n",
       " 'BB.upper': 86702.41075902333,\n",
       " 'AO[2]': 24.707058823449188,\n",
       " 'volume': 0.009068,\n",
       " 'change': -0.00012192728013868101,\n",
       " 'low': 82016,\n",
       " 'high': 82016}"
      ]
     },
     "execution_count": 15,
     "metadata": {},
     "output_type": "execute_result"
    }
   ],
   "source": [
    "handler.get_indicators()"
   ]
  },
  {
   "cell_type": "code",
   "execution_count": 16,
   "id": "5ddcfcef-519f-4a65-86d3-9a4d931dc6c7",
   "metadata": {},
   "outputs": [
    {
     "data": {
      "text/plain": [
       "40.363032032484256"
      ]
     },
     "execution_count": 16,
     "metadata": {},
     "output_type": "execute_result"
    }
   ],
   "source": [
    "handler.get_indicators()['RSI']"
   ]
  },
  {
   "cell_type": "code",
   "execution_count": null,
   "id": "15e9c351-0f81-4da4-834d-eba2a6240357",
   "metadata": {},
   "outputs": [],
   "source": []
  }
 ],
 "metadata": {
  "kernelspec": {
   "display_name": "Python 3 (ipykernel)",
   "language": "python",
   "name": "python3"
  },
  "language_info": {
   "codemirror_mode": {
    "name": "ipython",
    "version": 3
   },
   "file_extension": ".py",
   "mimetype": "text/x-python",
   "name": "python",
   "nbconvert_exporter": "python",
   "pygments_lexer": "ipython3",
   "version": "3.12.6"
  }
 },
 "nbformat": 4,
 "nbformat_minor": 5
}
